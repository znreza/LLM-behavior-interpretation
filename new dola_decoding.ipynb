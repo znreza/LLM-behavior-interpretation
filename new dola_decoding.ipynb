{
 "cells": [
  {
   "cell_type": "code",
   "execution_count": 2,
   "id": "10524195-e695-4e4e-99c3-7b4e4dd6fdb9",
   "metadata": {},
   "outputs": [],
   "source": [
    "from transformers import AutoTokenizer, AutoModelForCausalLM\n",
    "import torch\n",
    "\n",
    "from decoding_analysis_utils import DecodingVisualizer"
   ]
  },
  {
   "cell_type": "code",
   "execution_count": null,
   "id": "89b5f20b-7822-4f74-83a2-0a065cbac51f",
   "metadata": {},
   "outputs": [],
   "source": [
    "cache_dir = \"/Users/zarreennaowalreza/Documents/openmined-new/Research/rivanna/hf_cache_models\"\n",
    "model_id =  \"google/gemma-2b\"  #\"meta-llama/Meta-Llama-3-8B-Instruct\""
   ]
  },
  {
   "cell_type": "code",
   "execution_count": null,
   "id": "f4c65bec-6c73-4776-8b66-39074b271bee",
   "metadata": {},
   "outputs": [],
   "source": [
    "def load_model(model_id):\n",
    "\n",
    "    tokenizer = AutoTokenizer.from_pretrained(model_id, cache_dir=cache_dir)\n",
    "    model = AutoModelForCausalLM.from_pretrained(\n",
    "        model_id, torch_dtype=torch.bfloat16, device_map=\"auto\", cache_dir=cache_dir\n",
    "    )\n",
    "    model.generation_config.eos_token_id = model.generation_config.pad_token_id\n",
    "\n",
    "    return model, tokenizer\n",
    "    \n",
    "\n",
    "def process_input(query, prompt=\"\"):\n",
    "\n",
    "    if not prompt:\n",
    "        input_text = f\"Answer with a short answer.\\n\\nQuestion: {query}\\n\\nAnswer: \"\n",
    "    else:\n",
    "        input_text = f\"{prompt}\\n\\nQuestion: {query}\\n\\nAnswer: \"\n",
    "\n",
    "    return input_text\n",
    "\n",
    "\n",
    "def run_dola_decoding(model_id, query, prompt=\"\", decoding_analysis=True):\n",
    "\n",
    "    model, tokenizer = load_model(model_id)\n",
    "    input_text = process_input(query, prompt)\n",
    "    inputs = tokenizer(input_text, return_tensors=\"pt\").to(model.device)\n",
    "    \n",
    "    generate_kwargs={\n",
    "        \"do_sample\": False, \"max_new_tokens\": 40, \"top_p\": None, \"temperature\": None, \"output_attentions\": True, \n",
    "        \"output_hidden_states\": True, \"output_scores\": True, \"output_logits\": True, \"return_dict_in_generate\": True\n",
    "    }\n",
    "    \n",
    "    dola_outputs = model.generate(**inputs, **generate_kwargs, dola_layers=[14,16,18], repetition_penalty=1.2)\n",
    "\n",
    "    if decoding_analysis:\n",
    "\n",
    "        dec_viz = DecodingVisualizer(dola_outputs)\n",
    "        \n",
    "        sequences, scores = dola_outputs.sequences, outputs.scores\n",
    "        attentions, hidden_states = dola_outputs.attentions, outputs.hidden_states\n",
    "        print(\"sequences shape\", sequences.shape)\n",
    "        \n",
    "        # skip the tokens in the input prompt\n",
    "        gen_sequences = sequences[:, inputs.input_ids.shape[-1]:][0, :]\n",
    "        gen_arr = gen_sequences.cpu().numpy()\n",
    "        \n",
    "        print(\"gen_sequences\", gen_sequences)\n",
    "        print(\"gen_sequences len\", len(gen_sequences))\n",
    "        print(\"gen_arr\", gen_arr)\n",
    "        \n",
    "        output_str = tokenizer.decode(gen_sequences, skip_special_tokens=True)\n",
    "        \n",
    "        print('MODEL OUTPUT: \\n{0}'.format(output_str))\n",
    "        \n",
    "        print(\"### outside of generate ###\")\n",
    "        \n",
    "        premature_layer_dist = dola_outputs.premature_layer_dist\n",
    "        print(\"outputs.premature_layer_dist\", premature_layer_dist)\n",
    "        \n",
    "        layer_tokens = dola_outputs.layer_tokens[\"layer_tokens\"]\n",
    "        layer_tokens_logits = dola_outputs.layer_tokens[\"layer_tokens_logits\"]\n",
    "        \n",
    "        print(len(layer_tokens))\n",
    "        print(len(layer_tokens_logits))"
   ]
  }
 ],
 "metadata": {
  "kernelspec": {
   "display_name": "dola_env",
   "language": "python",
   "name": "dola_env"
  },
  "language_info": {
   "codemirror_mode": {
    "name": "ipython",
    "version": 3
   },
   "file_extension": ".py",
   "mimetype": "text/x-python",
   "name": "python",
   "nbconvert_exporter": "python",
   "pygments_lexer": "ipython3",
   "version": "3.11.2"
  }
 },
 "nbformat": 4,
 "nbformat_minor": 5
}
