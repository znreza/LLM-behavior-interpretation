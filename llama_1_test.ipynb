{
 "cells": [
  {
   "cell_type": "code",
   "execution_count": 1,
   "id": "5bbee6d5-e36b-4917-a9ce-4e05e05b3ecf",
   "metadata": {},
   "outputs": [],
   "source": [
    "%load_ext slurm_magic\n",
    "import warnings\n",
    "warnings.filterwarnings(\"ignore\")"
   ]
  },
  {
   "cell_type": "code",
   "execution_count": 2,
   "id": "5bd09043-4fd9-4b48-b8de-36f8374f9d71",
   "metadata": {},
   "outputs": [],
   "source": [
    "# Load model directly\n",
    "from transformers import AutoTokenizer, AutoModelForCausalLM\n",
    "from viz_token_dist import build_prompt"
   ]
  },
  {
   "cell_type": "code",
   "execution_count": null,
   "id": "2eaa8cd5-77e2-4c04-a131-27f424e4cc01",
   "metadata": {},
   "outputs": [],
   "source": [
    "tokenizer = AutoTokenizer.from_pretrained(\"huggyllama/llama-7b\")\n",
    "model = AutoModelForCausalLM.from_pretrained(\"huggyllama/llama-7b\")"
   ]
  },
  {
   "cell_type": "code",
   "execution_count": null,
   "id": "507e50d2-e52a-4d11-9ce1-11590f314723",
   "metadata": {},
   "outputs": [],
   "source": [
    "input = \"Who was the first Nigerian to win the Nobel Prize, in which year?\"\n",
    "prompt = build_prompt(s)\n",
    "\n",
    "model_inputs = tokenizer(prompt, return_tensors=\"pt\").to(\"cuda:0\")\n",
    "\n",
    "output = model.generate(**model_inputs)\n",
    "\n",
    "print(tokenizer.decode(output[0], skip_special_tokens=True))\n"
   ]
  },
  {
   "cell_type": "code",
   "execution_count": 4,
   "id": "7447ba0b-5642-4a77-928a-8aa83b5212cc",
   "metadata": {},
   "outputs": [
    {
     "data": {
      "text/plain": [
       "'Submitted batch job 56229772\\n'"
      ]
     },
     "execution_count": 4,
     "metadata": {},
     "output_type": "execute_result"
    }
   ],
   "source": [
    "%%sbatch\n",
    "#!/bin/sh\n",
    "#SBATCH --time=12:00:00\n",
    "#SBATCH -A raiselab\n",
    "#SBATCH --mem=20000M\n",
    "#SBATCH --partition=gpu\n",
    "#SBATCH --gres=gpu:a100:1\n",
    "#SBATCH --ntasks=1\n",
    "\n",
    "# python viz_token_dist.py --model-name huggyllama/llama-7b --data-path ./tmp/ --output-path output-path-tfqa-baseline-test.json --num-gpus 1\n",
    "\n",
    "python llama-1-test.py"
   ]
  },
  {
   "cell_type": "code",
   "execution_count": null,
   "id": "3a5dedb5-0102-4ec9-9682-151016bad2f4",
   "metadata": {},
   "outputs": [],
   "source": []
  }
 ],
 "metadata": {
  "kernelspec": {
   "display_name": "Python 3 (ipykernel)",
   "language": "python",
   "name": "python3"
  },
  "language_info": {
   "codemirror_mode": {
    "name": "ipython",
    "version": 3
   },
   "file_extension": ".py",
   "mimetype": "text/x-python",
   "name": "python",
   "nbconvert_exporter": "python",
   "pygments_lexer": "ipython3",
   "version": "3.10.12"
  }
 },
 "nbformat": 4,
 "nbformat_minor": 5
}
